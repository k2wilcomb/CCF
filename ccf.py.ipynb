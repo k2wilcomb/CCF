{
 "cells": [
  {
   "cell_type": "markdown",
   "metadata": {},
   "source": [
    "# CCF Planet Finder\n",
    "### Purpose: to find planet in data cube when you cannot see it with your eyes\n"
   ]
  },
  {
   "cell_type": "code",
   "execution_count": 17,
   "metadata": {},
   "outputs": [],
   "source": [
    "import glob\n",
    "from scipy.signal import convolve, boxcar\n",
    "import scipy\n",
    "import matplotlib.pyplot as plt\n",
    "import matplotlib.gridspec as gridspec\n",
    "import numpy as np\n",
    "import pandas as pd\n",
    "import os, sys\n",
    "import time\n",
    "from astropy.table import Table\n",
    "from astropy.io import fits\n",
    "import copy\n",
    "import scipy.io as spio\n",
    "import matplotlib.image as mpimg\n",
    "\n",
    "\n",
    "import astropy.constants as const\n",
    "import astropy.units as u\n",
    "\n",
    "#import CCF"
   ]
  },
  {
   "cell_type": "markdown",
   "metadata": {},
   "source": [
    "### Read in fits data cube\n",
    "#### primary hdu contains the data"
   ]
  },
  {
   "cell_type": "code",
   "execution_count": 18,
   "metadata": {},
   "outputs": [
    {
     "name": "stdout",
     "output_type": "stream",
     "text": [
      "Filename: s161106_a022002_tlc_Kbb_020.fits\n",
      "No.    Name      Ver    Type      Cards   Dimensions   Format\n",
      "  0  SCI           1 PrimaryHDU     434   (1665, 64, 19)   float32   \n",
      "  1                1 ImageHDU         8   (1665, 64, 19)   float32   \n",
      "  2                1 ImageHDU         8   (1665, 64, 19)   uint8   \n"
     ]
    }
   ],
   "source": [
    "hdul = fits.open('s161106_a022002_tlc_Kbb_020.fits')\n",
    "hdul.info()\n",
    "cube = hdul[0].data\n",
    "#pixel = cube[9,32,:]"
   ]
  },
  {
   "cell_type": "markdown",
   "metadata": {},
   "source": [
    "### Need the wavlength information from the fits file "
   ]
  },
  {
   "cell_type": "code",
   "execution_count": 19,
   "metadata": {},
   "outputs": [],
   "source": [
    "Wavelengths = hdul[0].header['CRVAL1'] + np.arange(hdul[0].header['NAXIS1']) * hdul[0].header['CDELT1']\n",
    "#this is for OSIRIS"
   ]
  },
  {
   "cell_type": "code",
   "execution_count": 20,
   "metadata": {},
   "outputs": [],
   "source": [
    "def load_osiris_cube(filename):\n",
    "    \"\"\" Load OSIRIS cube \n",
    "    \n",
    "    Returns (cube, wavelengths array, header)\n",
    "    \"\"\"\n",
    "    hdul = fits.open(filename)\n",
    "    hdul.info() \n",
    "    cube = hdul[0].data\n",
    "   \n",
    "\n",
    "    Wavelengths = hdul[0].header['CRVAL1'] + np.arange(hdul[0].header['NAXIS1']) * hdul[0].header['CDELT1']\n",
    "    Wavelengths = Wavelengths * u.nm\n",
    "    return cube, Wavelengths, hdul[0].header\n"
   ]
  },
  {
   "cell_type": "code",
   "execution_count": 21,
   "metadata": {},
   "outputs": [
    {
     "name": "stdout",
     "output_type": "stream",
     "text": [
      "Filename: s161106_a022002_tlc_Kbb_020.fits\n",
      "No.    Name      Ver    Type      Cards   Dimensions   Format\n",
      "  0  SCI           1 PrimaryHDU     434   (1665, 64, 19)   float32   \n",
      "  1                1 ImageHDU         8   (1665, 64, 19)   float32   \n",
      "  2                1 ImageHDU         8   (1665, 64, 19)   uint8   \n"
     ]
    }
   ],
   "source": [
    "cube, Wavelengths, header = load_osiris_cube('s161106_a022002_tlc_Kbb_020.fits')"
   ]
  },
  {
   "cell_type": "code",
   "execution_count": 22,
   "metadata": {},
   "outputs": [],
   "source": [
    "import astropy.wcs"
   ]
  },
  {
   "cell_type": "code",
   "execution_count": 23,
   "metadata": {},
   "outputs": [],
   "source": [
    "coords = astropy.wcs.WCS(header)"
   ]
  },
  {
   "cell_type": "code",
   "execution_count": 24,
   "metadata": {},
   "outputs": [
    {
     "data": {
      "text/plain": [
       "WCS Keywords\n",
       "\n",
       "Number of WCS axes: 3\n",
       "CTYPE : 'WAVE'  'DEC--TAN'  'RA---TAN'  \n",
       "CRVAL : 1.9650000000000002e-06  44.33378118  355.11025092  \n",
       "CRPIX : 1.0  32.0  9.0  \n",
       "PC1_1 PC1_2 PC1_3  : 1.0  0.0  0.0  \n",
       "PC2_1 PC2_2 PC2_3  : 0.0  0.801775627654  -0.597625169232  \n",
       "PC3_1 PC3_2 PC3_3  : 0.0  -0.597625169232  -0.801775627654  \n",
       "CDELT : 2.5e-10  5.55556e-06  5.55556e-06  \n",
       "NAXIS : 1665  64  19"
      ]
     },
     "execution_count": 24,
     "metadata": {},
     "output_type": "execute_result"
    }
   ],
   "source": [
    "coords"
   ]
  },
  {
   "cell_type": "code",
   "execution_count": 25,
   "metadata": {},
   "outputs": [
    {
     "data": {
      "text/latex": [
       "$[1965,~1965.25,~1965.5,~\\dots,~2380.5,~2380.75,~2381] \\; \\mathrm{nm}$"
      ],
      "text/plain": [
       "<Quantity [1965.  , 1965.25, 1965.5 , ..., 2380.5 , 2380.75, 2381.  ] nm>"
      ]
     },
     "execution_count": 25,
     "metadata": {},
     "output_type": "execute_result"
    }
   ],
   "source": [
    "Wavelengths"
   ]
  },
  {
   "cell_type": "code",
   "execution_count": 26,
   "metadata": {},
   "outputs": [],
   "source": [
    "#convert Wavlengths to microns for consistency\n",
    "Wavelengths = Wavelengths /1000 *u.micron"
   ]
  },
  {
   "cell_type": "markdown",
   "metadata": {},
   "source": [
    "### Need model to cross correlate for the planet signal \n",
    "#### Model needs to be close in spectral type to planet you're searching for "
   ]
  },
  {
   "cell_type": "code",
   "execution_count": 39,
   "metadata": {},
   "outputs": [],
   "source": [
    "#t3 = np.genfromtxt('2048_377_0_1_1.txt')\n",
    "#cowaves = t3[:,1]*u.micron\n",
    "#cofluxes = t3[:,0]\n",
    "\n",
    "t3 = np.genfromtxt('ccf_kappa_mod.txt')\n",
    "cowaves = t3[:,0] *u.micron\n",
    "cofluxes = t3[:,1]"
   ]
  },
  {
   "cell_type": "code",
   "execution_count": 40,
   "metadata": {},
   "outputs": [
    {
     "data": {
      "text/plain": [
       "(1, 3)"
      ]
     },
     "execution_count": 40,
     "metadata": {},
     "output_type": "execute_result"
    },
    {
     "data": {
      "image/png": "[encoded data removed]",
      "text/plain": [
       "<Figure size 432x288 with 1 Axes>"
      ]
     },
     "metadata": {
      "needs_background": "light"
     },
     "output_type": "display_data"
    }
   ],
   "source": [
    "plt.plot(cowaves, cofluxes)\n",
    "plt.xlim([1,3])"
   ]
  },
  {
   "cell_type": "code",
   "execution_count": 29,
   "metadata": {},
   "outputs": [],
   "source": [
    "#need to read in 51 Eri spec for GJ 504 b\n",
    "#erib = '51Erib_model_osiris_k.sav' #sav data file\n",
    "#moreerib = spio.readsav(erib, python_dict=True, verbose=True) #seeing whats in it\n",
    "#eriwaves = moreerib['wavek'] #getting wavelength info\n",
    "#erifluxes = moreerib['f_mod_k'] #getting flux info\n"
   ]
  },
  {
   "cell_type": "markdown",
   "metadata": {},
   "source": [
    "### RV information"
   ]
  },
  {
   "cell_type": "code",
   "execution_count": 49,
   "metadata": {},
   "outputs": [],
   "source": [
    "#RV of Star km/s (go to simbad) Kappa And \n",
    "rv = -12.7 * u.km/u.second\n",
    "#baryrv nov 6 2016 km/s: (need mjd-obs and to convert to JD)\n",
    "baryrv = -10.3 * u.km/u.second\n",
    "#speed of light in km/s:\n",
    "c_kms = 299792.458 *u.km/u.second"
   ]
  },
  {
   "cell_type": "markdown",
   "metadata": {},
   "source": [
    "### Interpolate model to match RV"
   ]
  },
  {
   "cell_type": "code",
   "execution_count": 58,
   "metadata": {},
   "outputs": [],
   "source": [
    "def interpolate_model_to_rv(wavelengths, modwaves, fluxes, rv, baryrv):\n",
    "    \"\"\"Use spline interpolation to shift a spectrum based on velocities\"\"\"\n",
    "\n",
    "    #assuming rv same as host star and keeping it constant, wavelengths = of the data itself\n",
    "    wvs_shifted= wavelengths*(1 - ((rv-baryrv) / c_kms))\n",
    "    \n",
    "    #interpolating the model\n",
    "    spline = scipy.interpolate.splrep(modwaves, fluxes)\n",
    "    \n",
    "    #taking above model and creating a doppler shifted spectra of the model\n",
    "    shifted_spec = scipy.interpolate.splev(wvs_shifted, spline, der=0)\n",
    "    \n",
    "    return shifted_spec\n"
   ]
  },
  {
   "cell_type": "code",
   "execution_count": 60,
   "metadata": {},
   "outputs": [],
   "source": [
    "shifted_spec = interpolate_model_to_rv(Wavelengths, cowaves, cofluxes, rv, baryrv)"
   ]
  },
  {
   "cell_type": "code",
   "execution_count": 35,
   "metadata": {},
   "outputs": [],
   "source": [
    "#filtmod = shifted_spec"
   ]
  },
  {
   "cell_type": "markdown",
   "metadata": {},
   "source": [
    "### Smooth model and remove spikes"
   ]
  },
  {
   "cell_type": "code",
   "execution_count": 71,
   "metadata": {},
   "outputs": [
    {
     "data": {
      "text/plain": [
       "[<matplotlib.lines.Line2D at 0x11df86780>]"
      ]
     },
     "execution_count": 71,
     "metadata": {},
     "output_type": "execute_result"
    },
    {
     "data": {
      "image/png": "[encoded data removed]",
      "text/plain": [
       "<Figure size 432x288 with 1 Axes>"
      ]
     },
     "metadata": {
      "needs_background": "light"
     },
     "output_type": "display_data"
    }
   ],
   "source": [
    "#smoothing the model spectra to get the continuum\n",
    "smoothedmod = scipy.ndimage.filters.uniform_filter(shifted_spec,size=200)\n",
    "#subtracting the continuum out\n",
    "filtmod = shifted_spec - smoothedmod\n",
    "plt.plot(Wavelengths, filtmod)\n",
    "#this method caused some sharp spikes, so here we identify which parts are spikes\n",
    "#spikes = np.where(np.abs(filtmod) > 3*np.std(filtmod)) #locations in cube where spikes are, if getting rid of too much info set it higher to 3\n",
    "#We make the spikes equal to the median of the spectra\n",
    "#filtmod[spikes]=np.median(filtmod)\n",
    "#plt.plot(Wavelengths, filtmod)\n"
   ]
  },
  {
   "cell_type": "code",
   "execution_count": 72,
   "metadata": {},
   "outputs": [],
   "source": [
    "#define array for 2d ccf image\n",
    "corr_im = np.zeros((19,64))\n",
    "#print(cube.shape)\n",
    "#x,y=10,30\n",
    "#smoothed=scipy.ndimage.filters.uniform_filter(cube[x,y,:],size=200) #smoothing pixel flux\n",
    "#filt = cube[x,y,:] - smoothed #flatten the fluxes\n",
    "#plt.plot(Wavelengths,filt)\n",
    "#spikes = np.where(np.abs(filt) > 2*np.std(filt)) #locations in cube where spikes are, if getting rid of too much info set it higher to 3\n",
    "#filt[spikes]=np.median(filt) #setting spikes to median value\n",
    "#plt.plot(Wavelengths,filt)"
   ]
  },
  {
   "cell_type": "code",
   "execution_count": 70,
   "metadata": {},
   "outputs": [
    {
     "data": {
      "image/png": "[encoded data removed]",
      "text/plain": [
       "<Figure size 1080x360 with 2 Axes>"
      ]
     },
     "metadata": {
      "needs_background": "light"
     },
     "output_type": "display_data"
    }
   ],
   "source": [
    "#looping through cubes (0,18) (0,63)\n",
    "for x in range(0,18):\n",
    "    for y in range(0,63):\n",
    "        #print(cube[x,y,:])\n",
    "        smoothed=scipy.ndimage.filters.uniform_filter(cube[x,y,:],size=200) #smoothing pixel flux\n",
    "        filt = cube[x,y,:] - smoothed #flatten the fluxes\n",
    "        spikes = np.where(np.abs(filt) > 2*np.std(filt)) #locations in cube where spikes are, if getting rid of too much info set it higher to 3\n",
    "        filt[spikes]=np.median(filt) #setting spikes to median value\n",
    "        ccfval = np.sum(filt * filtmod) / np.sqrt(np.sum((filtmod) ** 2)) #cross correlate model with data\n",
    "        #print(ccfval)\n",
    "        corr_im[x,y] = ccfval   #put ccf value into array\n",
    "        #plt.plot(Wavelengths, filt)\n",
    "        #plt.show()\n",
    "        #print(spikes)\n",
    "        \n",
    "        \n",
    "\n",
    "corr_im = scipy.signal.correlate2d(corr_im, np.ones((3,3)))\n",
    "plt.figure(figsize=(15,5))\n",
    "plt.imshow(corr_im)\n",
    "plt.xlabel(\"Spaxels\")\n",
    "plt.ylabel(\"Spaxels\")\n",
    "\n",
    "cb = plt.colorbar()\n",
    "cb.set_label(\"Cross Correlation Value\")\n",
    "plt.show()\n"
   ]
  },
  {
   "cell_type": "code",
   "execution_count": 35,
   "metadata": {},
   "outputs": [],
   "source": [
    "def ccf(cube, model, plot=True):\n",
    "    \"\"\"Calculate Cross Correlation Function\n",
    "    \n",
    "    \"\"\"\n",
    "    #smoothing the model spectra to get the continuum\n",
    "    smoothedmod = scipy.ndimage.filters.uniform_filter(shifted_spec,size=200)\n",
    "    #subtracting the continuum out\n",
    "    filtmod = shifted_spec - smoothedmod\n",
    "    #this method caused some sharp spikes, so here we identify which parts are spikes\n",
    "    spikes = np.where(np.abs(filtmod) > 3*np.std(filtmod)) #locations in cube where spikes are, if getting rid of too much info set it higher to 3\n",
    "    #We make the spikes equal to the median of the spectra\n",
    "    filtmod[spikes]=np.median(filtmod)\n",
    "    #define array for 2d ccf image\n",
    "    corr_im = np.zeros((19,64))\n",
    "    #print(cube.shape)\n",
    "\n",
    "    #looping through cubes (0,18) (0,63)\n",
    "    for x in range(0,18):\n",
    "        for y in range(0,63):\n",
    "            #print(cube[x,y,:])\n",
    "            smoothed=scipy.ndimage.filters.uniform_filter(cube[x,y,:],size=200) #smoothing pixel flux\n",
    "            filt = cube[x,y,:] - smoothed #flatten the fluxes\n",
    "            spikes = np.where(np.abs(filt) > 2*np.std(filt)) #locations in cube where spikes are, if getting rid of too much info set it higher to 3\n",
    "            filt[spikes]=np.median(filt) #setting spikes to median value\n",
    "            ccfval = np.sum(filt * filtmod) / np.sqrt(np.sum((filtmod) ** 2)) #cross correlate model with data\n",
    "            #print(ccfval)\n",
    "            corr_im[x,y] = ccfval   #put ccf value into array\n",
    "            #plt.plot(Wavelengths, filt)\n",
    "            #plt.show()\n",
    "            #print(spikes)\n",
    "\n",
    "    if plot: \n",
    "        plt.figure(figsize=(15,5))\n",
    "        plt.imshow(corr_im)\n",
    "        plt.xlabel(\"Spaxels\")\n",
    "        plt.ylabel(\"Spaxels\")\n",
    "\n",
    "        cb = plt.colorbar()\n",
    "        cb.set_label(\"Cross Correlation Value\")\n",
    "        plt.show()\n",
    "\n",
    "    return corr_im\n",
    "    "
   ]
  },
  {
   "cell_type": "code",
   "execution_count": 36,
   "metadata": {},
   "outputs": [
    {
     "data": {
      "image/png": "[encoded data removed]",
      "text/plain": [
       "<Figure size 1080x360 with 2 Axes>"
      ]
     },
     "metadata": {
      "needs_background": "light"
     },
     "output_type": "display_data"
    }
   ],
   "source": [
    "result = ccf(cube, shifted_spec, plot=True)"
   ]
  },
  {
   "cell_type": "code",
   "execution_count": 64,
   "metadata": {},
   "outputs": [],
   "source": [
    "result = ccf(cube, shifted_spec, plot=False)"
   ]
  },
  {
   "cell_type": "code",
   "execution_count": null,
   "metadata": {},
   "outputs": [],
   "source": [
    "# Example - iterating this calculation over many possible input\n",
    "\n",
    "for input_spectrum in some_list_of_spectra:\n",
    "    waves, fluxes = load_spectrum(input_spectrum)\n",
    "    \n",
    "    shifted_spec = interpolate_model_to_rv(waves, fluxes, rv, baryrv)\n",
    "    \n",
    "    result = ccf(cube, shifted_spec)"
   ]
  }
 ],
 "metadata": {
  "kernelspec": {
   "display_name": "Python 3",
   "language": "python",
   "name": "python3"
  },
  "language_info": {
   "codemirror_mode": {
    "name": "ipython",
    "version": 3
   },
   "file_extension": ".py",
   "mimetype": "text/x-python",
   "name": "python",
   "nbconvert_exporter": "python",
   "pygments_lexer": "ipython3",
   "version": "3.7.1"
  }
 },
 "nbformat": 4,
 "nbformat_minor": 4
}
