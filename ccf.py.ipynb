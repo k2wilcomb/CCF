{
 "cells": [
  {
   "cell_type": "markdown",
   "metadata": {},
   "source": [
    "# CCF Planet Finder\n",
    "### Purpose: to find planet in data cube when you cannot see it with your eyes\n"
   ]
  },
  {
   "cell_type": "code",
   "execution_count": 4,
   "metadata": {},
   "outputs": [],
   "source": [
    "import glob\n",
    "from scipy.signal import convolve, boxcar\n",
    "import scipy\n",
    "import matplotlib.pyplot as plt\n",
    "import matplotlib.gridspec as gridspec\n",
    "import numpy as np\n",
    "import pandas as pd\n",
    "import os, sys\n",
    "import time\n",
    "from astropy.table import Table\n",
    "from astropy.io import fits\n",
    "import copy\n",
    "import scipy.io as spio\n",
    "import matplotlib.image as mpimg\n"
   ]
  },
  {
   "cell_type": "markdown",
   "metadata": {},
   "source": [
    "### Read in fits data cube\n",
    "#### primary hdu contains the data"
   ]
  },
  {
   "cell_type": "code",
   "execution_count": 6,
   "metadata": {},
   "outputs": [
    {
     "name": "stdout",
     "output_type": "stream",
     "text": [
      "Filename: s190526_a022002_tlc_Kbb_050.fits\n",
      "No.    Name      Ver    Type      Cards   Dimensions   Format\n",
      "  0  SCI           1 PrimaryHDU     443   (1665, 64, 19)   float32   \n",
      "  1                1 ImageHDU         8   (1665, 64, 19)   float32   \n",
      "  2                1 ImageHDU         8   (1665, 64, 19)   uint8   \n"
     ]
    }
   ],
   "source": [
    "hdul = fits.open('s190526_a022002_tlc_Kbb_050.fits')\n",
    "hdul.info()\n",
    "cube = hdul[0].data\n",
    "#pixel = cube[9,32,:]"
   ]
  },
  {
   "cell_type": "markdown",
   "metadata": {},
   "source": [
    "### Need the wavlength information from the fits file "
   ]
  },
  {
   "cell_type": "code",
   "execution_count": 7,
   "metadata": {},
   "outputs": [],
   "source": [
    "Wavelengths = hdul[0].header['CRVAL1'] + np.arange(hdul[0].header['NAXIS1']) * hdul[0].header['CDELT1']\n",
    "#this is for OSIRIS"
   ]
  },
  {
   "cell_type": "markdown",
   "metadata": {},
   "source": [
    "### Need model to cross correlate for the planet signal \n",
    "#### Model needs to be close in spectral type to planet you're searching for "
   ]
  },
  {
   "cell_type": "code",
   "execution_count": 8,
   "metadata": {},
   "outputs": [
    {
     "name": "stdout",
     "output_type": "stream",
     "text": [
      "--------------------------------------------------\n",
      "Date: Mon Mar 21 10:51:44 2016\n",
      "User: quinn\n",
      "Host: cappuccino.physics.ucsd.edu\n",
      "--------------------------------------------------\n",
      "Format: 11\n",
      "Architecture: x86_64\n",
      "Operating System: darwin\n",
      "IDL Version: 8.2.3\n",
      "--------------------------------------------------\n",
      "Successfully read 5 records of which:\n",
      " - 1 are of type TIMESTAMP\n",
      " - 1 are of type VERSION\n",
      " - 2 are of type VARIABLE\n",
      "--------------------------------------------------\n",
      "Available variables:\n",
      " - wavek [<class 'numpy.ndarray'>]\n",
      " - f_mod_k [<class 'numpy.ndarray'>]\n",
      "--------------------------------------------------\n"
     ]
    }
   ],
   "source": [
    "#need to read in 51 Eri spec for GJ 504 b\n",
    "erib = '51Erib_model_osiris_k.sav' #sav data file\n",
    "moreerib = spio.readsav(erib, python_dict=True, verbose=True) #seeing whats in it\n",
    "eriwaves = moreerib['wavek'] #getting wavelength info\n",
    "erifluxes = moreerib['f_mod_k'] #getting flux info\n"
   ]
  },
  {
   "cell_type": "markdown",
   "metadata": {},
   "source": [
    "### RV information"
   ]
  },
  {
   "cell_type": "code",
   "execution_count": 9,
   "metadata": {},
   "outputs": [],
   "source": [
    "#RV of Star km/s (go to simbad)\n",
    "rv = -27\n",
    "#baryrv may 26 km/s: (need mjd-obs and to convert to JD)\n",
    "baryrv = -21.4\n",
    "#speed of light in km/s:\n",
    "c_kms = 299792\n"
   ]
  },
  {
   "cell_type": "markdown",
   "metadata": {},
   "source": [
    "### Interpolate model to match RV"
   ]
  },
  {
   "cell_type": "code",
   "execution_count": 10,
   "metadata": {},
   "outputs": [],
   "source": [
    "#assuming rv same as host star and keeping it constant\n",
    "wvs_shifted= eriwaves*(1 - ((rv-baryrv) / c_kms))\n",
    "#interpolating the model\n",
    "spline = scipy.interpolate.splrep(eriwaves, erifluxes)\n",
    "#taking above model and creating a doppler shifted spectra of the model\n",
    "shifted_spec = scipy.interpolate.splev(wvs_shifted, spline, der=0)\n"
   ]
  },
  {
   "cell_type": "markdown",
   "metadata": {},
   "source": [
    "### Smooth model and remove spikes"
   ]
  },
  {
   "cell_type": "code",
   "execution_count": 12,
   "metadata": {},
   "outputs": [],
   "source": [
    "#smoothing the model spectra to get the continuum\n",
    "smoothedmod = scipy.ndimage.filters.uniform_filter(shifted_spec,size=200)\n",
    "#subtracting the continuum out\n",
    "filtmod = shifted_spec - smoothedmod\n",
    "#this method caused some sharp spikes, so here we identify which parts are spikes\n",
    "spikes = np.where(np.abs(filtmod) > 3*np.std(filtmod)) #locations in cube where spikes are, if getting rid of too much info set it higher to 3\n",
    "#We make the spikes equal to the median of the spectra\n",
    "filtmod[spikes]=np.median(filtmod)\n"
   ]
  },
  {
   "cell_type": "code",
   "execution_count": 13,
   "metadata": {},
   "outputs": [],
   "source": [
    "#define array for 2d ccf image\n",
    "corr_im = np.zeros((19,64))\n",
    "#print(cube.shape)\n"
   ]
  },
  {
   "cell_type": "code",
   "execution_count": 14,
   "metadata": {},
   "outputs": [
    {
     "data": {
      "image/png": "[encoded data removed]",
      "text/plain": [
       "<Figure size 432x288 with 2 Axes>"
      ]
     },
     "metadata": {
      "needs_background": "light"
     },
     "output_type": "display_data"
    }
   ],
   "source": [
    "#looping through cubes (0,18) (0,63)\n",
    "for x in range(0,18):\n",
    "    for y in range(0,63):\n",
    "        #print(cube[x,y,:])\n",
    "        smoothed=scipy.ndimage.filters.uniform_filter(cube[x,y,:],size=200) #smoothing pixel flux\n",
    "        filt = cube[x,y,:] - smoothed #flatten the fluxes\n",
    "        spikes = np.where(np.abs(filt) > 2*np.std(filt)) #locations in cube where spikes are, if getting rid of too much info set it higher to 3\n",
    "        filt[spikes]=np.median(filt) #setting spikes to median value\n",
    "        ccfval = np.sum(filt * filtmod) / np.sqrt(np.sum((filtmod) ** 2)) #cross correlate model with data\n",
    "        #print(ccfval)\n",
    "        corr_im[x,y] = ccfval   #put ccf value into array\n",
    "        #plt.plot(Wavelengths, filt)\n",
    "        #plt.show()\n",
    "        #print(spikes)\n",
    "plt.imshow(corr_im)\n",
    "plt.colorbar()\n",
    "plt.show()\n"
   ]
  },
  {
   "cell_type": "code",
   "execution_count": null,
   "metadata": {},
   "outputs": [],
   "source": []
  }
 ],
 "metadata": {
  "kernelspec": {
   "display_name": "Python 3",
   "language": "python",
   "name": "python3"
  },
  "language_info": {
   "codemirror_mode": {
    "name": "ipython",
    "version": 3
   },
   "file_extension": ".py",
   "mimetype": "text/x-python",
   "name": "python",
   "nbconvert_exporter": "python",
   "pygments_lexer": "ipython3",
   "version": "3.6.10"
  }
 },
 "nbformat": 4,
 "nbformat_minor": 4
}
